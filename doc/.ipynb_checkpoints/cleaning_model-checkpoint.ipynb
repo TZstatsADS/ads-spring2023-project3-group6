{
 "cells": [
  {
   "cell_type": "code",
   "execution_count": 1,
   "id": "759928d1",
   "metadata": {},
   "outputs": [],
   "source": [
    "import numpy as np\n",
    "import pandas as pd\n",
    "import matplotlib.pyplot as plt\n",
    "import time"
   ]
  },
  {
   "cell_type": "code",
   "execution_count": 2,
   "id": "356f78c1",
   "metadata": {
    "scrolled": true
   },
   "outputs": [
    {
     "name": "stdout",
     "output_type": "stream",
     "text": [
      "Requirement already satisfied: opencv-python in /Users/lukearceneaux/miniconda3/envs/text-mine/lib/python3.10/site-packages (4.7.0.72)\r\n",
      "Requirement already satisfied: numpy>=1.21.4 in /Users/lukearceneaux/miniconda3/envs/text-mine/lib/python3.10/site-packages (from opencv-python) (1.23.4)\r\n"
     ]
    }
   ],
   "source": [
    "! pip install opencv-python"
   ]
  },
  {
   "cell_type": "code",
   "execution_count": 3,
   "id": "e1650f76",
   "metadata": {},
   "outputs": [],
   "source": [
    "import cv2 "
   ]
  },
  {
   "cell_type": "code",
   "execution_count": 4,
   "id": "f4c544b0",
   "metadata": {},
   "outputs": [],
   "source": [
    "clean_labels = pd.read_csv(\"../../../../Downloads/train_data/clean_labels.csv\", header = None)\n",
    "noisy_labels = pd.read_csv(\"../../../../Downloads/train_data/noisy_labels.csv\", header = None)"
   ]
  },
  {
   "cell_type": "code",
   "execution_count": 5,
   "id": "1c3990b2",
   "metadata": {
    "scrolled": false
   },
   "outputs": [
    {
     "name": "stdout",
     "output_type": "stream",
     "text": [
      "2    1032\n",
      "6    1030\n",
      "8    1025\n",
      "3    1016\n",
      "0    1005\n",
      "7    1001\n",
      "4     999\n",
      "9     981\n",
      "1     974\n",
      "5     937\n",
      "dtype: int64\n"
     ]
    }
   ],
   "source": [
    "print(clean_labels.value_counts()) #data is fairly balanced"
   ]
  },
  {
   "cell_type": "code",
   "execution_count": 6,
   "id": "6ccb1038",
   "metadata": {},
   "outputs": [],
   "source": [
    "n_img = 50000\n",
    "all_imgs = np.empty((n_img, 32, 32, 3))\n",
    "\n",
    "for i in range(n_img):\n",
    "    img_fn = f'../../../../Downloads/train_data/images/{i+1:05d}.png'\n",
    "    all_imgs[i,:,:,:]=cv2.cvtColor(cv2.imread(img_fn),cv2.COLOR_BGR2RGB)"
   ]
  },
  {
   "cell_type": "code",
   "execution_count": 7,
   "id": "791c2def",
   "metadata": {},
   "outputs": [],
   "source": [
    "clean_imgs = all_imgs[:10000,:,:,:] #images with human-verified labels\n",
    "noisy_imgs = all_imgs[10000:,:,:,:] #images with just noisy labels"
   ]
  },
  {
   "cell_type": "markdown",
   "id": "1aba9890",
   "metadata": {},
   "source": [
    "what each label is:\n",
    "\n",
    "1-car\n",
    "2-bird\n",
    "3-cat\n",
    "4-deer\n",
    "5-dog\n",
    "6-frog\n",
    "7-horse\n",
    "8-ship\n",
    "9-truck"
   ]
  },
  {
   "cell_type": "code",
   "execution_count": 8,
   "id": "4220471a",
   "metadata": {},
   "outputs": [
    {
     "name": "stderr",
     "output_type": "stream",
     "text": [
      "2023-03-19 18:09:05.292196: I tensorflow/core/platform/cpu_feature_guard.cc:193] This TensorFlow binary is optimized with oneAPI Deep Neural Network Library (oneDNN) to use the following CPU instructions in performance-critical operations:  AVX2 FMA\n",
      "To enable them in other operations, rebuild TensorFlow with the appropriate compiler flags.\n"
     ]
    }
   ],
   "source": [
    "import keras\n",
    "import tensorflow as tf\n",
    "from keras.models import Model\n",
    "from keras.layers import Dense, Dropout, Flatten, Concatenate, Add, Input, Embedding, Softmax\n",
    "from keras.layers import Conv2D, MaxPooling2D, LeakyReLU, BatchNormalization\n",
    "from tensorflow.keras.utils import to_categorical\n",
    "from keras.optimizers import SGD"
   ]
  },
  {
   "cell_type": "code",
   "execution_count": 9,
   "id": "14887016",
   "metadata": {},
   "outputs": [],
   "source": [
    "np.random.seed(20)\n",
    "tf.random.set_seed(20)"
   ]
  },
  {
   "cell_type": "code",
   "execution_count": 10,
   "id": "437c7261",
   "metadata": {},
   "outputs": [],
   "source": [
    "# one hot label data\n",
    "clean_labs = to_categorical(clean_labels,num_classes = 10)\n",
    "noisy_labs = to_categorical(noisy_labels,num_classes = 10)"
   ]
  },
  {
   "cell_type": "code",
   "execution_count": 11,
   "id": "c7eea32b",
   "metadata": {},
   "outputs": [
    {
     "name": "stderr",
     "output_type": "stream",
     "text": [
      "2023-03-19 18:09:16.370946: I tensorflow/core/platform/cpu_feature_guard.cc:193] This TensorFlow binary is optimized with oneAPI Deep Neural Network Library (oneDNN) to use the following CPU instructions in performance-critical operations:  AVX2 FMA\n",
      "To enable them in other operations, rebuild TensorFlow with the appropriate compiler flags.\n"
     ]
    }
   ],
   "source": [
    "# cleaning model construction\n",
    "input_labels = Input(shape = (10,))\n",
    "xl = Dense(128)(input_labels)\n",
    "\n",
    "input_images = Input(shape = (32,32,3,))\n",
    "xi = Conv2D(32,(3,3),1,padding=\"valid\",activation = \"relu\")(input_images)\n",
    "xi = BatchNormalization()(xi)\n",
    "xi = LeakyReLU(0.1)(xi)\n",
    "xi = MaxPooling2D((2,2),padding=\"valid\")(xi)\n",
    "xi = Dropout(0.2)(xi)\n",
    "xi = Conv2D(64,(3,3),1,padding=\"valid\",activation = \"relu\")(xi)\n",
    "xi = BatchNormalization()(xi)\n",
    "xi = LeakyReLU(0.1)(xi)\n",
    "xi = MaxPooling2D((2,2),padding=\"valid\")(xi)\n",
    "xi = Dropout(0.2)(xi)\n",
    "xi = Flatten()(xi)\n",
    "xi = Dense(128, activation = \"linear\")(xi)\n",
    "\n",
    "x = Concatenate()([xl,xi])\n",
    "x = Dense(64, activation = \"relu\")(x)\n",
    "x = Dropout(0.2)(x)\n",
    "y = Dense(10, activation = \"softmax\")(x)\n",
    "# y = Add()([input_labels,x]) #skip-connection to mitigate overfitting\n",
    "\n",
    "model = Model(inputs = [input_labels,input_images], outputs = y, name = \"label_cleaner\")"
   ]
  },
  {
   "cell_type": "code",
   "execution_count": 12,
   "id": "9b1967e5",
   "metadata": {},
   "outputs": [],
   "source": [
    "opt = SGD(learning_rate=0.01)\n",
    "model.compile(loss = \"categorical_crossentropy\", metrics = [\"accuracy\"], optimizer = \"adam\")\n",
    "# model.compile(loss = \"mean_squared_error\", metrics = [\"accuracy\"], optimizer = opt)"
   ]
  },
  {
   "cell_type": "code",
   "execution_count": 13,
   "id": "e01a0717",
   "metadata": {},
   "outputs": [],
   "source": [
    "# model.summary()"
   ]
  },
  {
   "cell_type": "markdown",
   "id": "cdcbcb6d",
   "metadata": {},
   "source": [
    "How the data splits work: labels -> {0,1} is right label or wrong label\n",
    "Have: 50000 images I, 10000 clean data C, 40000 noisy data w/o clean NO, 10000 clean data w/o clean NC\n",
    "Generate from 1: 40000 cleaned data of noisy GN, 10000 cleaned data of clean data GC\n",
    "\n",
    "Train 1: 1 NO - 0.8 I \n",
    "Valid 1: 0.6 C, 0.6 NC - 0.6*0.2 I\n",
    "Test 1: 0.4 C, 0.4 NC - 0.4*0.2 I\n",
    "\n",
    "---- unimportant for now\n",
    "Train 2: 1 I, \n",
    "Valid 2: \n",
    "Test 2: (draw test from train2)"
   ]
  },
  {
   "cell_type": "code",
   "execution_count": 14,
   "id": "99467ffd",
   "metadata": {
    "scrolled": true
   },
   "outputs": [],
   "source": [
    "#8:1.5:0.5 split\n",
    "train_split = np.random.choice(10000,size = 8000,replace = False)\n",
    "valid_split = np.random.choice(np.delete(np.arange(10000),train_split),size = 1500,replace = False)\n",
    "test_split = np.delete(np.arange(10000),np.append(valid_split,train_split))"
   ]
  },
  {
   "cell_type": "code",
   "execution_count": 15,
   "id": "da22993a",
   "metadata": {},
   "outputs": [],
   "source": [
    "train1_imgs = clean_imgs[train_split,]/255.0\n",
    "valid1_imgs = clean_imgs[valid_split,]/255.0\n",
    "test1_imgs = clean_imgs[test_split,]/255.0\n",
    "\n",
    "train1_labels = noisy_labs[train_split,]\n",
    "ytrain1_labels = clean_labs[train_split,]\n",
    "valid1_labels = noisy_labs[valid_split,]\n",
    "yvalid1_labels = clean_labs[valid_split,]\n",
    "test1_labels = noisy_labs[test_split,]\n",
    "ytest1_labels = clean_labs[test_split,]"
   ]
  },
  {
   "cell_type": "code",
   "execution_count": 16,
   "id": "a8dffa01",
   "metadata": {
    "scrolled": true
   },
   "outputs": [
    {
     "name": "stdout",
     "output_type": "stream",
     "text": [
      "Epoch 1/12\n",
      "63/63 [==============================] - 11s 160ms/step - loss: 2.2603 - accuracy: 0.1956 - val_loss: 2.2168 - val_accuracy: 0.3167\n",
      "Epoch 2/12\n",
      "63/63 [==============================] - 10s 153ms/step - loss: 1.8674 - accuracy: 0.3198 - val_loss: 2.1138 - val_accuracy: 0.3220\n",
      "Epoch 3/12\n",
      "63/63 [==============================] - 10s 153ms/step - loss: 1.6638 - accuracy: 0.3934 - val_loss: 2.0508 - val_accuracy: 0.3147\n",
      "Epoch 4/12\n",
      "63/63 [==============================] - 10s 155ms/step - loss: 1.4931 - accuracy: 0.4700 - val_loss: 2.0389 - val_accuracy: 0.3540\n",
      "Epoch 5/12\n",
      "63/63 [==============================] - 9s 149ms/step - loss: 1.3831 - accuracy: 0.5149 - val_loss: 2.0124 - val_accuracy: 0.3553\n",
      "Epoch 6/12\n",
      "63/63 [==============================] - 10s 150ms/step - loss: 1.2838 - accuracy: 0.5437 - val_loss: 1.8412 - val_accuracy: 0.4020\n",
      "Epoch 7/12\n",
      "63/63 [==============================] - 10s 153ms/step - loss: 1.2301 - accuracy: 0.5691 - val_loss: 1.6037 - val_accuracy: 0.4667\n",
      "Epoch 8/12\n",
      "63/63 [==============================] - 10s 152ms/step - loss: 1.1624 - accuracy: 0.5979 - val_loss: 1.5330 - val_accuracy: 0.4727\n",
      "Epoch 9/12\n",
      "63/63 [==============================] - 9s 150ms/step - loss: 1.0939 - accuracy: 0.6164 - val_loss: 1.2759 - val_accuracy: 0.5673\n",
      "Epoch 10/12\n",
      "63/63 [==============================] - 10s 162ms/step - loss: 1.0335 - accuracy: 0.6385 - val_loss: 1.1975 - val_accuracy: 0.5933\n",
      "Epoch 11/12\n",
      "63/63 [==============================] - 11s 173ms/step - loss: 0.9833 - accuracy: 0.6586 - val_loss: 1.1986 - val_accuracy: 0.5960\n",
      "Epoch 12/12\n",
      "63/63 [==============================] - 12s 186ms/step - loss: 0.9401 - accuracy: 0.6740 - val_loss: 1.1523 - val_accuracy: 0.6173\n",
      "Training took 2.017229700088501 minutes\n"
     ]
    }
   ],
   "source": [
    "start = time.time()\n",
    "cleaner_train = model.fit([train1_labels,train1_imgs], ytrain1_labels, epochs = 12, batch_size = 128, verbose=1, \n",
    "                          validation_data = ([valid1_labels,valid1_imgs],yvalid1_labels))\n",
    "end = time.time()\n",
    "print(\"Training took \" + str((end-start)/60) + \" minutes\")"
   ]
  },
  {
   "cell_type": "code",
   "execution_count": 17,
   "id": "28bda57f",
   "metadata": {
    "scrolled": true
   },
   "outputs": [
    {
     "data": {
      "text/plain": [
       "dict_keys(['loss', 'accuracy', 'val_loss', 'val_accuracy'])"
      ]
     },
     "execution_count": 17,
     "metadata": {},
     "output_type": "execute_result"
    }
   ],
   "source": [
    "hist = cleaner_train.history\n",
    "hist.keys()"
   ]
  },
  {
   "cell_type": "code",
   "execution_count": 18,
   "id": "9211f549",
   "metadata": {},
   "outputs": [
    {
     "data": {
      "image/png": "[encoded data removed]",
      "text/plain": [
       "<Figure size 1600x800 with 2 Axes>"
      ]
     },
     "metadata": {},
     "output_type": "display_data"
    }
   ],
   "source": [
    "fix, ax = plt.subplots(figsize = (16,8), nrows = 1, ncols = 2)\n",
    "\n",
    "ax[0].plot(hist[\"accuracy\"], \"r\", label = \"Training\")\n",
    "ax[0].plot(hist[\"val_accuracy\"], \"b\", label = \"Validation\")\n",
    "ax[0].set_xlabel(\"Epoch\")\n",
    "ax[0].set_ylabel(\"Accuracy\")\n",
    "ax[0].legend()\n",
    "\n",
    "ax[1].plot(hist[\"loss\"], \"r\", label = \"Training\")\n",
    "ax[1].plot(hist[\"val_loss\"], \"b\", label = \"Validation\")\n",
    "ax[1].set_xlabel(\"Epoch\")\n",
    "ax[1].set_ylabel(\"Accuracy\")\n",
    "ax[1].legend()\n",
    "plt.show()"
   ]
  },
  {
   "cell_type": "code",
   "execution_count": 19,
   "id": "dc290beb",
   "metadata": {},
   "outputs": [],
   "source": [
    "# def model_abs_loss(noisy,imgs,true): \n",
    "#     output = model.predict([noisy,imgs])\n",
    "#     loss = 0\n",
    "#     for i in range(len(noisy)):\n",
    "#         loss += abs(np.argmax(output[i])-np.argmax(true[i])) #choose label with highest value\n",
    "#     return loss"
   ]
  },
  {
   "cell_type": "code",
   "execution_count": 20,
   "id": "e6b70b9a",
   "metadata": {},
   "outputs": [
    {
     "name": "stdout",
     "output_type": "stream",
     "text": [
      "16/16 [==============================] - 0s 17ms/step - loss: 1.1398 - accuracy: 0.6360\n"
     ]
    }
   ],
   "source": [
    "test_loss, test_accuracy = model.evaluate([test1_labels,test1_imgs], ytest1_labels)\n",
    "# model_abs_loss(test1_labels,test1_imgs, ytest1_labels)"
   ]
  },
  {
   "cell_type": "code",
   "execution_count": 27,
   "id": "ad1828c2",
   "metadata": {
    "scrolled": true
   },
   "outputs": [
    {
     "name": "stdout",
     "output_type": "stream",
     "text": [
      "1563/1563 [==============================] - 21s 14ms/step\n",
      "Generating labels took 0.40086907943089806 minutes\n"
     ]
    }
   ],
   "source": [
    "start = time.time()\n",
    "predicted_prob = model.predict([noisy_labs,all_imgs])\n",
    "predicted_labels = np.argmax(predicted_prob, axis = 1)\n",
    "end = time.time()\n",
    "print(\"Generating labels took \" + str((end-start)/60) + \" minutes\")"
   ]
  },
  {
   "cell_type": "code",
   "execution_count": 28,
   "id": "d0e19637",
   "metadata": {},
   "outputs": [
    {
     "data": {
      "text/plain": [
       "array([8, 8, 9, 8, 8, 0, 0, 7, 8, 9, 8, 9, 0, 8, 9, 8, 0, 8, 8, 8])"
      ]
     },
     "execution_count": 28,
     "metadata": {},
     "output_type": "execute_result"
    }
   ],
   "source": [
    "predicted_labels[:20] #looks a little su"
   ]
  },
  {
   "cell_type": "code",
   "execution_count": 23,
   "id": "832ee6d3",
   "metadata": {},
   "outputs": [],
   "source": [
    "# still need to check memory"
   ]
  }
 ],
 "metadata": {
  "kernelspec": {
   "display_name": "Python 3 (ipykernel)",
   "language": "python",
   "name": "python3"
  },
  "language_info": {
   "codemirror_mode": {
    "name": "ipython",
    "version": 3
   },
   "file_extension": ".py",
   "mimetype": "text/x-python",
   "name": "python",
   "nbconvert_exporter": "python",
   "pygments_lexer": "ipython3",
   "version": "3.10.4"
  }
 },
 "nbformat": 4,
 "nbformat_minor": 5
}
