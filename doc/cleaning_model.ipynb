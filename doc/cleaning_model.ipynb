{
 "cells": [
  {
   "cell_type": "code",
   "execution_count": 2,
   "id": "356f78c1",
   "metadata": {
    "scrolled": true
   },
   "outputs": [
    {
     "name": "stdout",
     "output_type": "stream",
     "text": [
      "Requirement already satisfied: opencv-python in /Users/lukearceneaux/miniconda3/envs/text-mine/lib/python3.10/site-packages (4.7.0.72)\r\n",
      "Requirement already satisfied: numpy>=1.21.4 in /Users/lukearceneaux/miniconda3/envs/text-mine/lib/python3.10/site-packages (from opencv-python) (1.23.4)\r\n"
     ]
    }
   ],
   "source": [
    "! pip install opencv-python"
   ]
  },
  {
   "cell_type": "code",
   "execution_count": 3,
   "id": "b7318ee4",
   "metadata": {},
   "outputs": [],
   "source": [
    "import numpy as np\n",
    "import pandas as pd\n",
    "import matplotlib.pyplot as plt\n",
    "import time"
   ]
  },
  {
   "cell_type": "code",
   "execution_count": 4,
   "id": "3e97d150",
   "metadata": {},
   "outputs": [],
   "source": [
    "import cv2 "
   ]
  },
  {
   "cell_type": "code",
   "execution_count": 5,
   "id": "f4c544b0",
   "metadata": {},
   "outputs": [],
   "source": [
    "clean_labels = pd.read_csv(\"../data/clean_labels.csv\", header = None)\n",
    "noisy_labels = pd.read_csv(\"../data/noisy_labels.csv\", header = None)"
   ]
  },
  {
   "cell_type": "code",
   "execution_count": 71,
   "id": "1c3990b2",
   "metadata": {
    "scrolled": false
   },
   "outputs": [
    {
     "name": "stdout",
     "output_type": "stream",
     "text": [
      "3    5101\n",
      "4    5090\n",
      "1    5070\n",
      "5    5049\n",
      "6    5033\n",
      "8    5022\n",
      "9    4938\n",
      "7    4921\n",
      "2    4920\n",
      "0    4856\n",
      "dtype: int64\n"
     ]
    }
   ],
   "source": [
    "print(clean_labels.value_counts()) #clean data is fairly balanced"
   ]
  },
  {
   "cell_type": "code",
   "execution_count": 7,
   "id": "6ccb1038",
   "metadata": {},
   "outputs": [],
   "source": [
    "n_img = 50000\n",
    "all_imgs = np.empty((n_img, 32, 32, 3))\n",
    "\n",
    "for i in range(n_img):\n",
    "    img_fn = f'../data/images/{i+1:05d}.png'\n",
    "    all_imgs[i,:,:,:]=cv2.cvtColor(cv2.imread(img_fn),cv2.COLOR_BGR2RGB)"
   ]
  },
  {
   "cell_type": "code",
   "execution_count": 8,
   "id": "791c2def",
   "metadata": {},
   "outputs": [],
   "source": [
    "clean_imgs = all_imgs[:10000,:,:,:] #images with human-verified labels\n",
    "noisy_imgs = all_imgs[10000:,:,:,:] #images with just noisy labels"
   ]
  },
  {
   "cell_type": "code",
   "execution_count": 151,
   "id": "dddbd2e9",
   "metadata": {
    "scrolled": true
   },
   "outputs": [
    {
     "data": {
      "text/plain": [
       "0    3968\n",
       "dtype: int64"
      ]
     },
     "execution_count": 151,
     "metadata": {},
     "output_type": "execute_result"
    }
   ],
   "source": [
    "(clean_labels == noisy_labels.iloc[:10000]).sum() #number of correct labels in first 10000"
   ]
  },
  {
   "cell_type": "markdown",
   "id": "1aba9890",
   "metadata": {},
   "source": [
    "what each label is:\n",
    "\n",
    "1-car\n",
    "2-bird\n",
    "3-cat\n",
    "4-deer\n",
    "5-dog\n",
    "6-frog\n",
    "7-horse\n",
    "8-ship\n",
    "9-truck"
   ]
  },
  {
   "cell_type": "code",
   "execution_count": 152,
   "id": "4220471a",
   "metadata": {},
   "outputs": [],
   "source": [
    "import keras\n",
    "import tensorflow as tf\n",
    "from keras.models import Model\n",
    "from keras.layers import Dense, Dropout, Flatten, Concatenate, Add, Input, Embedding, Softmax\n",
    "from keras.layers import Conv2D, MaxPooling2D, LeakyReLU, BatchNormalization\n",
    "from tensorflow.keras.utils import to_categorical\n",
    "from keras.optimizers import SGD"
   ]
  },
  {
   "cell_type": "code",
   "execution_count": 153,
   "id": "14887016",
   "metadata": {},
   "outputs": [],
   "source": [
    "np.random.seed(20)\n",
    "tf.random.set_seed(20)"
   ]
  },
  {
   "cell_type": "code",
   "execution_count": 154,
   "id": "437c7261",
   "metadata": {},
   "outputs": [],
   "source": [
    "# one hot label data\n",
    "clean_labs = to_categorical(clean_labels,num_classes = 10)\n",
    "noisy_labs = to_categorical(noisy_labels,num_classes = 10)"
   ]
  },
  {
   "cell_type": "code",
   "execution_count": 155,
   "id": "c7eea32b",
   "metadata": {},
   "outputs": [],
   "source": [
    "# cleaning model construction\n",
    "input_labels = Input(shape = (10,))\n",
    "xl = Dense(128)(input_labels)\n",
    "\n",
    "input_images = Input(shape = (32,32,3,))\n",
    "xi = Conv2D(32,(3,3),1,padding=\"valid\",activation = \"relu\")(input_images)\n",
    "# xi = BatchNormalization()(xi)\n",
    "xi = LeakyReLU(0.1)(xi)\n",
    "xi = MaxPooling2D((2,2),padding=\"valid\")(xi)\n",
    "xi = Dropout(0.2)(xi)\n",
    "xi = Conv2D(64,(3,3),1,padding=\"valid\",activation = \"relu\")(xi)\n",
    "# xi = BatchNormalization()(xi)\n",
    "xi = LeakyReLU(0.1)(xi)\n",
    "xi = MaxPooling2D((2,2),padding=\"valid\")(xi)\n",
    "xi = Dropout(0.2)(xi)\n",
    "xi = Flatten()(xi)\n",
    "xi = Dense(128, activation = \"linear\")(xi)\n",
    "\n",
    "x = Concatenate()([xl,xi])\n",
    "x = Dense(64, activation = \"relu\")(x)\n",
    "x = Dropout(0.2)(x)\n",
    "y = Dense(10, activation = \"softmax\")(x)\n",
    "# y = Add()([input_labels,y]) #skip-connection to mitigate overfitting\n",
    "\n",
    "model = Model(inputs = [input_labels,input_images], outputs = y, name = \"label_cleaner\")"
   ]
  },
  {
   "cell_type": "code",
   "execution_count": 157,
   "id": "9b1967e5",
   "metadata": {},
   "outputs": [],
   "source": [
    "opt = SGD(learning_rate=0.01)\n",
    "model.compile(loss = \"categorical_crossentropy\", metrics = [\"accuracy\"], optimizer = \"adam\")"
   ]
  },
  {
   "cell_type": "code",
   "execution_count": 171,
   "id": "e01a0717",
   "metadata": {},
   "outputs": [
    {
     "name": "stdout",
     "output_type": "stream",
     "text": [
      "Model: \"label_cleaner\"\n",
      "__________________________________________________________________________________________________\n",
      " Layer (type)                   Output Shape         Param #     Connected to                     \n",
      "==================================================================================================\n",
      " input_22 (InputLayer)          [(None, 32, 32, 3)]  0           []                               \n",
      "                                                                                                  \n",
      " conv2d_20 (Conv2D)             (None, 30, 30, 32)   896         ['input_22[0][0]']               \n",
      "                                                                                                  \n",
      " leaky_re_lu_18 (LeakyReLU)     (None, 30, 30, 32)   0           ['conv2d_20[0][0]']              \n",
      "                                                                                                  \n",
      " max_pooling2d_20 (MaxPooling2D  (None, 15, 15, 32)  0           ['leaky_re_lu_18[0][0]']         \n",
      " )                                                                                                \n",
      "                                                                                                  \n",
      " dropout_30 (Dropout)           (None, 15, 15, 32)   0           ['max_pooling2d_20[0][0]']       \n",
      "                                                                                                  \n",
      " conv2d_21 (Conv2D)             (None, 13, 13, 64)   18496       ['dropout_30[0][0]']             \n",
      "                                                                                                  \n",
      " leaky_re_lu_19 (LeakyReLU)     (None, 13, 13, 64)   0           ['conv2d_21[0][0]']              \n",
      "                                                                                                  \n",
      " max_pooling2d_21 (MaxPooling2D  (None, 6, 6, 64)    0           ['leaky_re_lu_19[0][0]']         \n",
      " )                                                                                                \n",
      "                                                                                                  \n",
      " dropout_31 (Dropout)           (None, 6, 6, 64)     0           ['max_pooling2d_21[0][0]']       \n",
      "                                                                                                  \n",
      " input_21 (InputLayer)          [(None, 10)]         0           []                               \n",
      "                                                                                                  \n",
      " flatten_10 (Flatten)           (None, 2304)         0           ['dropout_31[0][0]']             \n",
      "                                                                                                  \n",
      " dense_40 (Dense)               (None, 128)          1408        ['input_21[0][0]']               \n",
      "                                                                                                  \n",
      " dense_41 (Dense)               (None, 128)          295040      ['flatten_10[0][0]']             \n",
      "                                                                                                  \n",
      " concatenate_10 (Concatenate)   (None, 256)          0           ['dense_40[0][0]',               \n",
      "                                                                  'dense_41[0][0]']               \n",
      "                                                                                                  \n",
      " dense_42 (Dense)               (None, 64)           16448       ['concatenate_10[0][0]']         \n",
      "                                                                                                  \n",
      " dropout_32 (Dropout)           (None, 64)           0           ['dense_42[0][0]']               \n",
      "                                                                                                  \n",
      " dense_43 (Dense)               (None, 10)           650         ['dropout_32[0][0]']             \n",
      "                                                                                                  \n",
      "==================================================================================================\n",
      "Total params: 332,938\n",
      "Trainable params: 332,938\n",
      "Non-trainable params: 0\n",
      "__________________________________________________________________________________________________\n"
     ]
    }
   ],
   "source": [
    "model.summary()"
   ]
  },
  {
   "cell_type": "code",
   "execution_count": 158,
   "id": "99467ffd",
   "metadata": {
    "scrolled": true
   },
   "outputs": [],
   "source": [
    "#8:1:1 split\n",
    "train_split = np.random.choice(10000,size = 8000,replace = False)\n",
    "valid_split = np.random.choice(np.delete(np.arange(10000),train_split),size = 1000,replace = False)\n",
    "test_split = np.delete(np.arange(10000),np.append(valid_split,train_split))"
   ]
  },
  {
   "cell_type": "code",
   "execution_count": 159,
   "id": "da22993a",
   "metadata": {},
   "outputs": [],
   "source": [
    "train1_imgs = clean_imgs[train_split,]/255.0\n",
    "valid1_imgs = clean_imgs[valid_split,]/255.0\n",
    "test1_imgs = clean_imgs[test_split,]/255.0\n",
    "\n",
    "train1_labels = noisy_labs[train_split,]\n",
    "ytrain1_labels = clean_labs[train_split,]\n",
    "valid1_labels = noisy_labs[valid_split,]\n",
    "yvalid1_labels = clean_labs[valid_split,]\n",
    "test1_labels = noisy_labs[test_split,]\n",
    "ytest1_labels = clean_labs[test_split,]"
   ]
  },
  {
   "cell_type": "code",
   "execution_count": 160,
   "id": "a8dffa01",
   "metadata": {
    "scrolled": true
   },
   "outputs": [
    {
     "name": "stdout",
     "output_type": "stream",
     "text": [
      "Epoch 1/12\n",
      "63/63 [==============================] - 9s 129ms/step - loss: 2.0123 - accuracy: 0.3024 - val_loss: 1.7020 - val_accuracy: 0.4140\n",
      "Epoch 2/12\n",
      "63/63 [==============================] - 8s 124ms/step - loss: 1.5634 - accuracy: 0.4723 - val_loss: 1.4109 - val_accuracy: 0.5040\n",
      "Epoch 3/12\n",
      "63/63 [==============================] - 7s 105ms/step - loss: 1.3822 - accuracy: 0.5307 - val_loss: 1.3187 - val_accuracy: 0.5260\n",
      "Epoch 4/12\n",
      "63/63 [==============================] - 7s 110ms/step - loss: 1.2836 - accuracy: 0.5574 - val_loss: 1.2468 - val_accuracy: 0.5410\n",
      "Epoch 5/12\n",
      "63/63 [==============================] - 6s 102ms/step - loss: 1.1979 - accuracy: 0.5845 - val_loss: 1.1746 - val_accuracy: 0.5780\n",
      "Epoch 6/12\n",
      "63/63 [==============================] - 7s 106ms/step - loss: 1.1258 - accuracy: 0.6139 - val_loss: 1.1955 - val_accuracy: 0.5880\n",
      "Epoch 7/12\n",
      "63/63 [==============================] - 6s 103ms/step - loss: 1.0961 - accuracy: 0.6219 - val_loss: 1.1397 - val_accuracy: 0.5930\n",
      "Epoch 8/12\n",
      "63/63 [==============================] - 7s 103ms/step - loss: 1.0244 - accuracy: 0.6457 - val_loss: 1.0898 - val_accuracy: 0.6310\n",
      "Epoch 9/12\n",
      "63/63 [==============================] - 6s 103ms/step - loss: 0.9903 - accuracy: 0.6619 - val_loss: 1.1051 - val_accuracy: 0.6190\n",
      "Epoch 10/12\n",
      "63/63 [==============================] - 7s 106ms/step - loss: 0.9456 - accuracy: 0.6808 - val_loss: 1.0255 - val_accuracy: 0.6310\n",
      "Epoch 11/12\n",
      "63/63 [==============================] - 7s 103ms/step - loss: 0.9034 - accuracy: 0.6840 - val_loss: 1.0536 - val_accuracy: 0.6260\n",
      "Epoch 12/12\n",
      "63/63 [==============================] - 7s 107ms/step - loss: 0.8583 - accuracy: 0.7039 - val_loss: 1.0260 - val_accuracy: 0.6410\n",
      "Training took 1.3923744837443033 minutes\n"
     ]
    }
   ],
   "source": [
    "start = time.time()\n",
    "cleaner_train = model.fit([train1_labels,train1_imgs], ytrain1_labels, epochs = 12, batch_size = 128, verbose=1, \n",
    "                          validation_data = ([valid1_labels,valid1_imgs],yvalid1_labels))\n",
    "end = time.time()\n",
    "print(\"Training took \" + str((end-start)/60) + \" minutes\")"
   ]
  },
  {
   "cell_type": "code",
   "execution_count": 161,
   "id": "28bda57f",
   "metadata": {
    "scrolled": true
   },
   "outputs": [
    {
     "data": {
      "text/plain": [
       "dict_keys(['loss', 'accuracy', 'val_loss', 'val_accuracy'])"
      ]
     },
     "execution_count": 161,
     "metadata": {},
     "output_type": "execute_result"
    }
   ],
   "source": [
    "hist = cleaner_train.history\n",
    "hist.keys()"
   ]
  },
  {
   "cell_type": "code",
   "execution_count": 162,
   "id": "9211f549",
   "metadata": {},
   "outputs": [
    {
     "data": {
      "image/png": "[encoded data removed]",
      "text/plain": [
       "<Figure size 1600x800 with 2 Axes>"
      ]
     },
     "metadata": {},
     "output_type": "display_data"
    }
   ],
   "source": [
    "fix, ax = plt.subplots(figsize = (16,8), nrows = 1, ncols = 2)\n",
    "\n",
    "ax[0].plot(hist[\"accuracy\"], \"r\", label = \"Training\")\n",
    "ax[0].plot(hist[\"val_accuracy\"], \"b\", label = \"Validation\")\n",
    "ax[0].set_xlabel(\"Epoch\")\n",
    "ax[0].set_ylabel(\"Accuracy\")\n",
    "ax[0].legend()\n",
    "\n",
    "ax[1].plot(hist[\"loss\"], \"r\", label = \"Training\")\n",
    "ax[1].plot(hist[\"val_loss\"], \"b\", label = \"Validation\")\n",
    "ax[1].set_xlabel(\"Epoch\")\n",
    "ax[1].set_ylabel(\"Accuracy\")\n",
    "ax[1].legend()\n",
    "plt.show()"
   ]
  },
  {
   "cell_type": "code",
   "execution_count": 19,
   "id": "dc290beb",
   "metadata": {},
   "outputs": [],
   "source": [
    "# def model_abs_loss(noisy,imgs,true): \n",
    "#     output = model.predict([noisy,imgs])\n",
    "#     loss = 0\n",
    "#     for i in range(len(noisy)):\n",
    "#         loss += abs(np.argmax(output[i])-np.argmax(true[i])) #choose label with highest value\n",
    "#     return loss"
   ]
  },
  {
   "cell_type": "code",
   "execution_count": 163,
   "id": "e6b70b9a",
   "metadata": {},
   "outputs": [
    {
     "name": "stdout",
     "output_type": "stream",
     "text": [
      "32/32 [==============================] - 0s 14ms/step - loss: 0.9869 - accuracy: 0.6590\n"
     ]
    }
   ],
   "source": [
    "test_loss, test_accuracy = model.evaluate([test1_labels,test1_imgs], ytest1_labels)\n",
    "# model_abs_loss(test1_labels,test1_imgs, ytest1_labels)"
   ]
  },
  {
   "cell_type": "code",
   "execution_count": 164,
   "id": "ad1828c2",
   "metadata": {
    "scrolled": true
   },
   "outputs": [
    {
     "name": "stdout",
     "output_type": "stream",
     "text": [
      "1563/1563 [==============================] - 14s 9ms/step\n",
      "Generating labels took 0.31249671379725136 minutes\n"
     ]
    }
   ],
   "source": [
    "start = time.time()\n",
    "predicted_prob = model.predict([noisy_labs,all_imgs])\n",
    "predicted_labels = np.argmax(predicted_prob, axis = 1)\n",
    "end = time.time()\n",
    "print(\"Generating labels took \" + str((end-start)/60) + \" minutes\")"
   ]
  },
  {
   "cell_type": "code",
   "execution_count": 165,
   "id": "d0e19637",
   "metadata": {},
   "outputs": [
    {
     "data": {
      "text/plain": [
       "array([5, 9, 9, 5, 1, 1, 7, 7, 8, 7, 5, 7, 7, 1, 9, 0, 9, 5, 7, 6, 0, 1,\n",
       "       6, 7, 9, 9, 5, 1, 7, 0, 1, 9, 1, 5, 4, 7, 8, 7, 0, 0])"
      ]
     },
     "execution_count": 165,
     "metadata": {},
     "output_type": "execute_result"
    }
   ],
   "source": [
    "predicted_labels[:40] #looks a little sus"
   ]
  },
  {
   "cell_type": "code",
   "execution_count": 127,
   "id": "456baebb",
   "metadata": {},
   "outputs": [
    {
     "data": {
      "text/plain": [
       "(50000,)"
      ]
     },
     "execution_count": 127,
     "metadata": {},
     "output_type": "execute_result"
    }
   ],
   "source": [
    "predicted_labels.shape"
   ]
  },
  {
   "cell_type": "code",
   "execution_count": 170,
   "id": "460388ef",
   "metadata": {},
   "outputs": [
    {
     "name": "stdout",
     "output_type": "stream",
     "text": [
      "[6685, 8177, 822, 1172, 470, 8604, 2729, 10223, 4846]\n"
     ]
    }
   ],
   "source": [
    "label_count = []\n",
    "for i in range(9):\n",
    "    label_count.append(np.count_nonzero(predicted_labels==i))\n",
    "print(label_count)"
   ]
  }
 ],
 "metadata": {
  "kernelspec": {
   "display_name": "Python 3 (ipykernel)",
   "language": "python",
   "name": "python3"
  },
  "language_info": {
   "codemirror_mode": {
    "name": "ipython",
    "version": 3
   },
   "file_extension": ".py",
   "mimetype": "text/x-python",
   "name": "python",
   "nbconvert_exporter": "python",
   "pygments_lexer": "ipython3",
   "version": "3.10.4"
  }
 },
 "nbformat": 4,
 "nbformat_minor": 5
}
