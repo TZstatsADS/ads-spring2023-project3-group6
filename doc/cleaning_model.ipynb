{
 "cells": [
  {
   "cell_type": "code",
   "execution_count": 11,
   "id": "759928d1",
   "metadata": {},
   "outputs": [],
   "source": [
    "import numpy as np\n",
    "import pandas as pd"
   ]
  },
  {
   "cell_type": "code",
   "execution_count": 20,
   "id": "356f78c1",
   "metadata": {
    "scrolled": true
   },
   "outputs": [
    {
     "name": "stdout",
     "output_type": "stream",
     "text": [
      "Requirement already satisfied: opencv-python in /Users/lukearceneaux/miniconda3/envs/text-mine/lib/python3.10/site-packages (4.7.0.72)\r\n",
      "Requirement already satisfied: numpy>=1.21.4 in /Users/lukearceneaux/miniconda3/envs/text-mine/lib/python3.10/site-packages (from opencv-python) (1.23.4)\r\n"
     ]
    }
   ],
   "source": [
    "! pip install opencv-python"
   ]
  },
  {
   "cell_type": "code",
   "execution_count": 19,
   "id": "85f6b56a",
   "metadata": {},
   "outputs": [],
   "source": [
    "import cv2 "
   ]
  },
  {
   "cell_type": "code",
   "execution_count": 275,
   "id": "84b0fa8a",
   "metadata": {},
   "outputs": [
    {
     "data": {
      "text/html": [
       "<div>\n",
       "<style scoped>\n",
       "    .dataframe tbody tr th:only-of-type {\n",
       "        vertical-align: middle;\n",
       "    }\n",
       "\n",
       "    .dataframe tbody tr th {\n",
       "        vertical-align: top;\n",
       "    }\n",
       "\n",
       "    .dataframe thead th {\n",
       "        text-align: right;\n",
       "    }\n",
       "</style>\n",
       "<table border=\"1\" class=\"dataframe\">\n",
       "  <thead>\n",
       "    <tr style=\"text-align: right;\">\n",
       "      <th></th>\n",
       "      <th>0</th>\n",
       "    </tr>\n",
       "  </thead>\n",
       "  <tbody>\n",
       "    <tr>\n",
       "      <th>0</th>\n",
       "      <td>3</td>\n",
       "    </tr>\n",
       "    <tr>\n",
       "      <th>1</th>\n",
       "      <td>5</td>\n",
       "    </tr>\n",
       "    <tr>\n",
       "      <th>2</th>\n",
       "      <td>9</td>\n",
       "    </tr>\n",
       "    <tr>\n",
       "      <th>3</th>\n",
       "      <td>6</td>\n",
       "    </tr>\n",
       "    <tr>\n",
       "      <th>4</th>\n",
       "      <td>5</td>\n",
       "    </tr>\n",
       "    <tr>\n",
       "      <th>...</th>\n",
       "      <td>...</td>\n",
       "    </tr>\n",
       "    <tr>\n",
       "      <th>995</th>\n",
       "      <td>2</td>\n",
       "    </tr>\n",
       "    <tr>\n",
       "      <th>996</th>\n",
       "      <td>3</td>\n",
       "    </tr>\n",
       "    <tr>\n",
       "      <th>997</th>\n",
       "      <td>0</td>\n",
       "    </tr>\n",
       "    <tr>\n",
       "      <th>998</th>\n",
       "      <td>5</td>\n",
       "    </tr>\n",
       "    <tr>\n",
       "      <th>999</th>\n",
       "      <td>5</td>\n",
       "    </tr>\n",
       "  </tbody>\n",
       "</table>\n",
       "<p>1000 rows × 1 columns</p>\n",
       "</div>"
      ],
      "text/plain": [
       "     0\n",
       "0    3\n",
       "1    5\n",
       "2    9\n",
       "3    6\n",
       "4    5\n",
       "..  ..\n",
       "995  2\n",
       "996  3\n",
       "997  0\n",
       "998  5\n",
       "999  5\n",
       "\n",
       "[1000 rows x 1 columns]"
      ]
     },
     "execution_count": 275,
     "metadata": {},
     "output_type": "execute_result"
    }
   ],
   "source": [
    "clean_labels == noisy_labels.iloc[:1000,]"
   ]
  },
  {
   "cell_type": "code",
   "execution_count": 140,
   "id": "f4c544b0",
   "metadata": {},
   "outputs": [],
   "source": [
    "clean_labels = pd.read_csv(\"train_data/clean_labels.csv\", header = None)\n",
    "noisy_labels = pd.read_csv(\"train_data/noisy_labels.csv\", header = None)"
   ]
  },
  {
   "cell_type": "code",
   "execution_count": 13,
   "id": "1c3990b2",
   "metadata": {
    "scrolled": false
   },
   "outputs": [
    {
     "name": "stdout",
     "output_type": "stream",
     "text": [
      "2    1032\n",
      "6    1030\n",
      "8    1025\n",
      "3    1016\n",
      "0    1005\n",
      "7    1001\n",
      "4     999\n",
      "9     981\n",
      "1     974\n",
      "5     937\n",
      "dtype: int64\n"
     ]
    }
   ],
   "source": [
    "print(clean_labels.value_counts())"
   ]
  },
  {
   "cell_type": "code",
   "execution_count": 20,
   "id": "1fb53720",
   "metadata": {},
   "outputs": [],
   "source": [
    "n_img = 50000\n",
    "all_imgs = np.empty((n_img, 32, 32, 3))\n",
    "\n",
    "for i in range(n_img):\n",
    "    img_fn = f'train_data/images/{i+1:05d}.png'\n",
    "    all_imgs[i,:,:,:]=cv2.cvtColor(cv2.imread(img_fn),cv2.COLOR_BGR2RGB)"
   ]
  },
  {
   "cell_type": "code",
   "execution_count": 21,
   "id": "38ac658a",
   "metadata": {},
   "outputs": [],
   "source": [
    "clean_imgs = all_imgs[:10000,:,:,:]\n",
    "noisy_imgs = all_imgs[10000:,:,:,:]"
   ]
  },
  {
   "cell_type": "markdown",
   "id": "1aba9890",
   "metadata": {},
   "source": [
    "what each label is:\n",
    "\n",
    "1-car\n",
    "2-bird\n",
    "3-cat\n",
    "4-deer\n",
    "5-dog\n",
    "6-frog\n",
    "7-horse\n",
    "8-ship\n",
    "9-truck"
   ]
  },
  {
   "cell_type": "code",
   "execution_count": 169,
   "id": "4220471a",
   "metadata": {},
   "outputs": [],
   "source": [
    "import keras\n",
    "import tensorflow as tf\n",
    "from keras.models import Model\n",
    "from keras.layers import Dense, Dropout, Flatten, Concatenate, Add, Input, Embedding\n",
    "from keras.layers import Conv2D, MaxPooling2D, LeakyReLU\n",
    "from tensorflow.keras.utils import to_categorical"
   ]
  },
  {
   "cell_type": "code",
   "execution_count": 106,
   "id": "d741970f",
   "metadata": {},
   "outputs": [
    {
     "data": {
      "text/plain": [
       "(10000, 3072)"
      ]
     },
     "execution_count": 106,
     "metadata": {},
     "output_type": "execute_result"
    }
   ],
   "source": [
    "# clean_imgs_shaped = np.reshape(clean_imgs,(10000,-1))\n",
    "# noisy_imgs_shaped = np.reshape(noisy_imgs,(40000,-1))\n",
    "# clean_imgs_shaped.shape"
   ]
  },
  {
   "cell_type": "code",
   "execution_count": 178,
   "id": "ec5b3d88",
   "metadata": {},
   "outputs": [],
   "source": [
    "# one hot label data\n",
    "clean_labs = to_categorical(clean_labels,num_classes = 10)\n",
    "noisy_labs = to_categorical(noisy_labels,num_classes = 10)"
   ]
  },
  {
   "cell_type": "code",
   "execution_count": 310,
   "id": "0a9a6d91",
   "metadata": {},
   "outputs": [],
   "source": [
    "# cleaning model construction\n",
    "input_labels = Input(shape = (10,))\n",
    "xl = Dense(64)(input_labels)\n",
    "\n",
    "input_images = Input(shape = (32,32,3,))\n",
    "xi = Conv2D(32,(3,3),1,padding=\"same\",activation = \"linear\")(input_images)\n",
    "xi = LeakyReLU(0.1)(xi)\n",
    "xi = MaxPooling2D((2,2),padding=\"same\")(xi)\n",
    "xi = Dropout(0.2)(xi)\n",
    "xi = Conv2D(64,(3,3),1,padding=\"same\",activation = \"linear\")(xi)\n",
    "xi = LeakyReLU(0.1)(xi)\n",
    "xi = MaxPooling2D((2,2),padding=\"same\")(xi)\n",
    "xi = Dropout(0.2)(xi)\n",
    "xi = Flatten()(xi)\n",
    "xi = Dense(64, activation = \"linear\")(xi)\n",
    "\n",
    "x = Concatenate()([xl,xi])\n",
    "x = Dense(32)(x)\n",
    "x = Dropout(0.2)(x)\n",
    "x = Dense(10, activation = \"softmax\")(x)\n",
    "y = Add()([input_labels,x]) #link connection to mitigate overfitting"
   ]
  },
  {
   "cell_type": "code",
   "execution_count": 311,
   "id": "c79c2b64",
   "metadata": {},
   "outputs": [],
   "source": [
    "model = Model(inputs = [input_labels,input_images], outputs = y, name = \"label_cleaner\")"
   ]
  },
  {
   "cell_type": "code",
   "execution_count": 312,
   "id": "6c231fa5",
   "metadata": {},
   "outputs": [],
   "source": [
    "model.compile(loss = \"categorical_crossentropy\", metrics = [\"accuracy\"], optimizer = \"Adam\")"
   ]
  },
  {
   "cell_type": "code",
   "execution_count": 301,
   "id": "e8b0d723",
   "metadata": {},
   "outputs": [
    {
     "name": "stdout",
     "output_type": "stream",
     "text": [
      "Model: \"label_cleaner\"\n",
      "__________________________________________________________________________________________________\n",
      " Layer (type)                   Output Shape         Param #     Connected to                     \n",
      "==================================================================================================\n",
      " input_68 (InputLayer)          [(None, 32, 32, 3)]  0           []                               \n",
      "                                                                                                  \n",
      " conv2d_53 (Conv2D)             (None, 32, 32, 32)   896         ['input_68[0][0]']               \n",
      "                                                                                                  \n",
      " leaky_re_lu_19 (LeakyReLU)     (None, 32, 32, 32)   0           ['conv2d_53[0][0]']              \n",
      "                                                                                                  \n",
      " max_pooling2d_50 (MaxPooling2D  (None, 16, 16, 32)  0           ['leaky_re_lu_19[0][0]']         \n",
      " )                                                                                                \n",
      "                                                                                                  \n",
      " dropout_31 (Dropout)           (None, 16, 16, 32)   0           ['max_pooling2d_50[0][0]']       \n",
      "                                                                                                  \n",
      " conv2d_54 (Conv2D)             (None, 16, 16, 64)   18496       ['dropout_31[0][0]']             \n",
      "                                                                                                  \n",
      " leaky_re_lu_20 (LeakyReLU)     (None, 16, 16, 64)   0           ['conv2d_54[0][0]']              \n",
      "                                                                                                  \n",
      " max_pooling2d_51 (MaxPooling2D  (None, 8, 8, 64)    0           ['leaky_re_lu_20[0][0]']         \n",
      " )                                                                                                \n",
      "                                                                                                  \n",
      " dropout_32 (Dropout)           (None, 8, 8, 64)     0           ['max_pooling2d_51[0][0]']       \n",
      "                                                                                                  \n",
      " input_67 (InputLayer)          [(None, 10)]         0           []                               \n",
      "                                                                                                  \n",
      " flatten_23 (Flatten)           (None, 4096)         0           ['dropout_32[0][0]']             \n",
      "                                                                                                  \n",
      " dense_115 (Dense)              (None, 64)           704         ['input_67[0][0]']               \n",
      "                                                                                                  \n",
      " dense_116 (Dense)              (None, 64)           262208      ['flatten_23[0][0]']             \n",
      "                                                                                                  \n",
      " concatenate_27 (Concatenate)   (None, 128)          0           ['dense_115[0][0]',              \n",
      "                                                                  'dense_116[0][0]']              \n",
      "                                                                                                  \n",
      " dense_117 (Dense)              (None, 32)           4128        ['concatenate_27[0][0]']         \n",
      "                                                                                                  \n",
      " dropout_33 (Dropout)           (None, 32)           0           ['dense_117[0][0]']              \n",
      "                                                                                                  \n",
      " dense_118 (Dense)              (None, 10)           330         ['dropout_33[0][0]']             \n",
      "                                                                                                  \n",
      " add_26 (Add)                   (None, 10)           0           ['input_67[0][0]',               \n",
      "                                                                  'dense_118[0][0]']              \n",
      "                                                                                                  \n",
      "==================================================================================================\n",
      "Total params: 286,762\n",
      "Trainable params: 286,762\n",
      "Non-trainable params: 0\n",
      "__________________________________________________________________________________________________\n"
     ]
    }
   ],
   "source": [
    "model.summary()"
   ]
  },
  {
   "cell_type": "markdown",
   "id": "4cd3d4ac",
   "metadata": {},
   "source": [
    "How the data splits work: labels -> {0,1} is right label or wrong label\n",
    "Have: 50000 images I, 10000 clean data C, 40000 noisy data w/o clean NO, 10000 clean data w/o clean NC\n",
    "Generate from 1: 40000 cleaned data of noisy GN, 10000 cleaned data of clean data GC\n",
    "\n",
    "Train 1: 1 NO - 0.8 I \n",
    "Valid 1: 0.6 C, 0.6 NC - 0.6*0.2 I\n",
    "Test 1: 0.4 C, 0.4 NC - 0.4*0.2 I\n",
    "\n",
    "---- unimportant for now\n",
    "Train 2: 1 I, \n",
    "Valid 2: \n",
    "Test 2: (draw test from train2)"
   ]
  },
  {
   "cell_type": "code",
   "execution_count": 313,
   "id": "a42d8f10",
   "metadata": {
    "scrolled": true
   },
   "outputs": [],
   "source": [
    "#7:2:1 split\n",
    "train_split = np.random.choice(1000,size = 700,replace = False)\n",
    "valid_split = np.random.choice(np.delete(np.arange(1000),train_split),size = 200,replace = False)\n",
    "test_split = np.delete(np.arange(1000),np.append(valid_split,train_split))"
   ]
  },
  {
   "cell_type": "code",
   "execution_count": 314,
   "id": "1249d847",
   "metadata": {},
   "outputs": [],
   "source": [
    "train1_imgs = clean_imgs[train_split,]/255.0\n",
    "valid1_imgs = clean_imgs[valid_split,]/255.0\n",
    "test1_imgs = clean_imgs[test_split,]/255.0\n",
    "\n",
    "train1_labels = noisy_labs[train_split,]\n",
    "ytrain1_labels = clean_labs[train_split,]\n",
    "valid1_labels = noisy_labs[valid_split,]\n",
    "yvalid1_labels = clean_labs[valid_split,]\n",
    "test1_labels = noisy_labs[test_split,]\n",
    "ytest1_labels = clean_labs[test_split,]"
   ]
  },
  {
   "cell_type": "code",
   "execution_count": 214,
   "id": "ca58f520",
   "metadata": {},
   "outputs": [],
   "source": [
    "import time"
   ]
  },
  {
   "cell_type": "code",
   "execution_count": 315,
   "id": "2dc02f05",
   "metadata": {
    "scrolled": true
   },
   "outputs": [
    {
     "name": "stdout",
     "output_type": "stream",
     "text": [
      "Epoch 1/20\n",
      "6/6 [==============================] - 3s 225ms/step - loss: 2.1442 - accuracy: 0.3871 - val_loss: 2.1753 - val_accuracy: 0.3550\n",
      "Epoch 2/20\n",
      "6/6 [==============================] - 1s 153ms/step - loss: 2.0646 - accuracy: 0.3871 - val_loss: 2.1394 - val_accuracy: 0.3550\n",
      "Epoch 3/20\n",
      "6/6 [==============================] - 1s 163ms/step - loss: 2.0319 - accuracy: 0.3871 - val_loss: 2.1097 - val_accuracy: 0.3550\n",
      "Epoch 4/20\n",
      "6/6 [==============================] - 1s 157ms/step - loss: 1.9720 - accuracy: 0.3871 - val_loss: 2.0568 - val_accuracy: 0.3550\n",
      "Epoch 5/20\n",
      "6/6 [==============================] - 1s 154ms/step - loss: 1.9223 - accuracy: 0.3871 - val_loss: 2.0013 - val_accuracy: 0.3550\n",
      "Epoch 6/20\n",
      "6/6 [==============================] - 1s 174ms/step - loss: 1.8698 - accuracy: 0.3871 - val_loss: 1.9649 - val_accuracy: 0.3550\n",
      "Epoch 7/20\n",
      "6/6 [==============================] - 1s 199ms/step - loss: 1.7990 - accuracy: 0.3871 - val_loss: 1.9193 - val_accuracy: 0.3550\n",
      "Epoch 8/20\n",
      "6/6 [==============================] - 1s 173ms/step - loss: 1.7618 - accuracy: 0.3871 - val_loss: 1.9050 - val_accuracy: 0.3550\n",
      "Epoch 9/20\n",
      "6/6 [==============================] - 1s 218ms/step - loss: 1.7249 - accuracy: 0.3871 - val_loss: 1.8722 - val_accuracy: 0.3550\n",
      "Epoch 10/20\n",
      "6/6 [==============================] - 1s 211ms/step - loss: 1.6646 - accuracy: 0.3871 - val_loss: 1.8211 - val_accuracy: 0.3550\n",
      "Epoch 11/20\n",
      "6/6 [==============================] - 1s 228ms/step - loss: 1.6104 - accuracy: 0.3871 - val_loss: 1.8196 - val_accuracy: 0.3550\n",
      "Epoch 12/20\n",
      "6/6 [==============================] - 1s 225ms/step - loss: 1.5521 - accuracy: 0.3871 - val_loss: 1.7658 - val_accuracy: 0.3550\n",
      "Epoch 13/20\n",
      "6/6 [==============================] - 1s 211ms/step - loss: 1.5182 - accuracy: 0.3871 - val_loss: 1.7185 - val_accuracy: 0.3550\n",
      "Epoch 14/20\n",
      "6/6 [==============================] - 1s 154ms/step - loss: 1.4767 - accuracy: 0.3871 - val_loss: 1.7636 - val_accuracy: 0.3550\n",
      "Epoch 15/20\n",
      "6/6 [==============================] - 1s 188ms/step - loss: 1.4155 - accuracy: 0.3871 - val_loss: 1.7141 - val_accuracy: 0.3550\n",
      "Epoch 16/20\n",
      "6/6 [==============================] - 1s 237ms/step - loss: 1.3719 - accuracy: 0.3871 - val_loss: 1.7574 - val_accuracy: 0.3550\n",
      "Epoch 17/20\n",
      "6/6 [==============================] - 1s 237ms/step - loss: 1.3444 - accuracy: 0.3871 - val_loss: 1.7288 - val_accuracy: 0.3550\n",
      "Epoch 18/20\n",
      "6/6 [==============================] - 1s 238ms/step - loss: 1.2737 - accuracy: 0.3871 - val_loss: 1.7387 - val_accuracy: 0.3550\n",
      "Epoch 19/20\n",
      "6/6 [==============================] - 1s 163ms/step - loss: 1.2578 - accuracy: 0.3871 - val_loss: 1.7607 - val_accuracy: 0.3550\n",
      "Epoch 20/20\n",
      "6/6 [==============================] - 2s 275ms/step - loss: 1.1956 - accuracy: 0.3871 - val_loss: 1.7543 - val_accuracy: 0.3550\n",
      "Training took 0.4220413009325663 minutes\n"
     ]
    }
   ],
   "source": [
    "start = time.time()\n",
    "cleaner_train = model.fit([train1_labels,train1_imgs], ytrain1_labels, epochs = 20, batch_size = 128, verbose=1, validation_data = ([valid1_labels,valid1_imgs],yvalid1_labels))\n",
    "end = time.time()\n",
    "print(\"Training took \" + str((end-start)/60) + \" minutes\")"
   ]
  },
  {
   "cell_type": "code",
   "execution_count": 309,
   "id": "5d5f30b6",
   "metadata": {},
   "outputs": [
    {
     "name": "stdout",
     "output_type": "stream",
     "text": [
      "4/4 [==============================] - 0s 11ms/step - loss: 1.5677 - accuracy: 0.4200\n"
     ]
    }
   ],
   "source": [
    "# test_loss, test_accuracy = model.evaluate([test1_labels,test1_imgs], ytest1_labels)"
   ]
  },
  {
   "cell_type": "code",
   "execution_count": 297,
   "id": "f15bf155",
   "metadata": {},
   "outputs": [
    {
     "name": "stdout",
     "output_type": "stream",
     "text": [
      "7/7 [==============================] - 0s 12ms/step\n"
     ]
    },
    {
     "data": {
      "text/plain": [
       "array([4.0055133e-02, 1.0533844e-02, 3.4285724e-04, 5.8615278e-04,\n",
       "       1.0029292e+00, 3.4661102e-04, 1.4382631e-04, 4.2386305e-01,\n",
       "       1.0116595e-02, 5.1108265e-01], dtype=float32)"
      ]
     },
     "execution_count": 297,
     "metadata": {},
     "output_type": "execute_result"
    }
   ],
   "source": [
    "model.predict([valid1_labels,valid1_imgs])[0]"
   ]
  },
  {
   "cell_type": "code",
   "execution_count": null,
   "id": "a4525630",
   "metadata": {},
   "outputs": [],
   "source": []
  }
 ],
 "metadata": {
  "kernelspec": {
   "display_name": "Python 3 (ipykernel)",
   "language": "python",
   "name": "python3"
  },
  "language_info": {
   "codemirror_mode": {
    "name": "ipython",
    "version": 3
   },
   "file_extension": ".py",
   "mimetype": "text/x-python",
   "name": "python",
   "nbconvert_exporter": "python",
   "pygments_lexer": "ipython3",
   "version": "3.10.4"
  }
 },
 "nbformat": 4,
 "nbformat_minor": 5
}
