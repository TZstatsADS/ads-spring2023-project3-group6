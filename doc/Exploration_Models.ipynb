{
 "cells": [
  {
   "cell_type": "code",
   "execution_count": 1,
   "id": "94eb5a40",
   "metadata": {},
   "outputs": [],
   "source": [
    "# Import required packages\n",
    "import numpy as np\n",
    "import cv2\n",
    "import matplotlib.pyplot as plt\n",
    "from sklearn.metrics import classification_report\n",
    "from sklearn.linear_model import LogisticRegression"
   ]
  },
  {
   "cell_type": "markdown",
   "id": "8063eccf",
   "metadata": {},
   "source": [
    "## 1. Load the datasets"
   ]
  },
  {
   "cell_type": "markdown",
   "id": "05adca89",
   "metadata": {},
   "source": [
    "For the project, we provide a training set with 50000 images in the directory `../data/images/` with:\n",
    "- noisy labels for all images provided in `../data/noisy_label.csv`;\n",
    "- clean labels for the first 10000 images provided in `../data/clean_labels.csv`. "
   ]
  },
  {
   "cell_type": "code",
   "execution_count": 2,
   "id": "680a5296",
   "metadata": {},
   "outputs": [],
   "source": [
    "# [DO NOT MODIFY THIS CELL]\n",
    "\n",
    "# load the images\n",
    "n_img = 50000\n",
    "n_noisy = 40000\n",
    "n_clean_noisy = n_img - n_noisy\n",
    "imgs = np.empty((n_img,32,32,3))\n",
    "for i in range(n_img):\n",
    "    img_fn = f'../data/images/{i+1:05d}.png'\n",
    "    imgs[i,:,:,:]=cv2.cvtColor(cv2.imread(img_fn),cv2.COLOR_BGR2RGB)\n"
   ]
  },
  {
   "cell_type": "code",
   "execution_count": 3,
   "id": "37848542",
   "metadata": {},
   "outputs": [
    {
     "name": "stdout",
     "output_type": "stream",
     "text": [
      "(50000, 32, 32, 3)\n"
     ]
    }
   ],
   "source": [
    "print(imgs.shape)"
   ]
  },
  {
   "cell_type": "code",
   "execution_count": 4,
   "id": "b72887f6",
   "metadata": {},
   "outputs": [
    {
     "name": "stdout",
     "output_type": "stream",
     "text": [
      "[1 7 3]\n"
     ]
    }
   ],
   "source": [
    "# load the labels\n",
    "clean_labels = np.genfromtxt('../data/clean_labels.csv', delimiter=',', dtype=\"int8\")\n",
    "noisy_labels = np.genfromtxt('../data/noisy_labels.csv', delimiter=',', dtype=\"int8\", skip_header=10000)\n",
    "# Reading the remaining 40000 labels, excluding the first 10000 labels\n",
    "print(noisy_labels[:3])"
   ]
  },
  {
   "cell_type": "code",
   "execution_count": 5,
   "id": "1afc4121",
   "metadata": {},
   "outputs": [
    {
     "name": "stdout",
     "output_type": "stream",
     "text": [
      "(10000, 32, 32, 3) (40000, 32, 32, 3)\n"
     ]
    }
   ],
   "source": [
    "clean_imgs = imgs[:10000,:,:,:]\n",
    "noisy_imgs = imgs[10000:,:,:,:]\n",
    "\n",
    "print(clean_imgs.shape, noisy_imgs.shape)"
   ]
  },
  {
   "cell_type": "markdown",
   "id": "8d636834",
   "metadata": {},
   "source": [
    "For illustration, we present a small subset (of size 8) of the images with their clean and noisy labels in `clean_noisy_trainset`. You are encouraged to explore more characteristics of the label noises on the whole dataset. "
   ]
  },
  {
   "cell_type": "code",
   "execution_count": 6,
   "id": "e9235d74",
   "metadata": {
    "scrolled": false
   },
   "outputs": [
    {
     "data": {
      "text/plain": [
       "<matplotlib.image.AxesImage at 0x180bea200>"
      ]
     },
     "execution_count": 6,
     "metadata": {},
     "output_type": "execute_result"
    },
    {
     "data": {
      "image/png": "[encoded data removed]",
      "text/plain": [
       "<Figure size 432x288 with 2 Axes>"
      ]
     },
     "metadata": {
      "needs_background": "light"
     },
     "output_type": "display_data"
    }
   ],
   "source": [
    "# [DO NOT MODIFY THIS CELL]\n",
    "\n",
    "fig = plt.figure()\n",
    "\n",
    "ax1 = fig.add_subplot(2,4,1)\n",
    "ax1.imshow(noisy_imgs[0]/255)\n",
    "ax2 = fig.add_subplot(2,4,2)\n",
    "ax2.imshow(noisy_imgs[1]/255)\n",
    "# ax3 = fig.add_subplot(2,4,3)\n",
    "# ax3.imshow(imgs[2]/255)\n",
    "# ax4 = fig.add_subplot(2,4,4)\n",
    "# ax4.imshow(imgs[3]/255)\n",
    "# ax1 = fig.add_subplot(2,4,5)\n",
    "# ax1.imshow(imgs[4]/255)\n",
    "# ax2 = fig.add_subplot(2,4,6)\n",
    "# ax2.imshow(imgs[5]/255)\n",
    "# ax3 = fig.add_subplot(2,4,7)\n",
    "# ax3.imshow(imgs[6]/255)\n",
    "# ax4 = fig.add_subplot(2,4,8)\n",
    "# ax4.imshow(imgs[7]/255)\n",
    "\n",
    "# # The class-label correspondence\n",
    "# classes = ('plane', 'car', 'bird', 'cat',\n",
    "#            'deer', 'dog', 'frog', 'horse', 'ship', 'truck')\n",
    "\n",
    "# # print clean labels\n",
    "# print('Clean labels:')\n",
    "# print(' '.join('%5s' % classes[clean_labels[j]] for j in range(8)))\n",
    "# # print noisy labels\n",
    "# print('Noisy labels:')\n",
    "# print(' '.join('%5s' % classes[noisy_labels[j]] for j in range(8)))\n"
   ]
  },
  {
   "cell_type": "markdown",
   "id": "543c6e3c",
   "metadata": {},
   "source": [
    "## 2. The predictive model - Exploring different models to choose the one with the best test accuracy."
   ]
  },
  {
   "cell_type": "code",
   "execution_count": 7,
   "id": "a2fa1dc3",
   "metadata": {},
   "outputs": [],
   "source": [
    "# RGB histogram dataset construction - train data\n",
    "no_bins_train = 6\n",
    "bins_train = np.linspace(0, 255, no_bins_train) # the range of the rgb histogram\n",
    "img_feature_train = np.empty((noisy_imgs.shape[0], 3*(len(bins_train)-1)))\n",
    "i = 0\n",
    "\n",
    "for i in range(noisy_imgs.shape[0]):\n",
    "    \n",
    "    # Use the numbers of pixels in each bin for all three channels as the features\n",
    "    feature1_tr = np.histogram(noisy_imgs[i][:,:,0],bins=bins_train)[0] \n",
    "    feature2_tr = np.histogram(noisy_imgs[i][:,:,1],bins=bins_train)[0]\n",
    "    feature3_tr = np.histogram(noisy_imgs[i][:,:,2],bins=bins_train)[0]\n",
    "    \n",
    "    # Concatenate three features\n",
    "    img_feature_train[i,] = np.concatenate((feature1_tr, feature2_tr, feature3_tr), axis=None)\n",
    "    i += 1\n",
    "    \n",
    "\n",
    "# RGB histogram dataset construction - test data\n",
    "no_bins_test = 6\n",
    "bins_test = np.linspace(0, 255, no_bins_test) # the range of the rgb histogram\n",
    "img_feature_test = np.empty((clean_imgs.shape[0], 3*(len(bins_test)-1)))\n",
    "i = 0\n",
    "\n",
    "for i in range(clean_imgs.shape[0]):\n",
    "    \n",
    "    # Use the numbers of pixels in each bin for all three channels as the features\n",
    "    feature1_ts = np.histogram(clean_imgs[i][:,:,0],bins=bins_test)[0] \n",
    "    feature2_ts = np.histogram(clean_imgs[i][:,:,1],bins=bins_test)[0]\n",
    "    feature3_ts = np.histogram(clean_imgs[i][:,:,2],bins=bins_test)[0]\n",
    "    \n",
    "    # Concatenate three features\n",
    "    img_feature_test[i,] = np.concatenate((feature1_ts, feature2_ts, feature3_ts), axis=None)\n",
    "    i += 1"
   ]
  },
  {
   "cell_type": "markdown",
   "id": "7f9ff454",
   "metadata": {},
   "source": [
    "### Implementing a Decision Tree"
   ]
  },
  {
   "cell_type": "code",
   "execution_count": 8,
   "id": "199f29c7",
   "metadata": {},
   "outputs": [],
   "source": [
    "from sklearn.tree import DecisionTreeClassifier"
   ]
  },
  {
   "cell_type": "code",
   "execution_count": 9,
   "id": "21607765",
   "metadata": {},
   "outputs": [
    {
     "name": "stdout",
     "output_type": "stream",
     "text": [
      "              precision    recall  f1-score   support\n",
      "\n",
      "           0       0.17      0.17      0.17       992\n",
      "           1       0.12      0.12      0.12       999\n",
      "           2       0.15      0.15      0.15      1015\n",
      "           3       0.10      0.11      0.11       936\n",
      "           4       0.15      0.14      0.14      1062\n",
      "           5       0.13      0.12      0.12      1039\n",
      "           6       0.13      0.13      0.13      1019\n",
      "           7       0.15      0.15      0.15       971\n",
      "           8       0.15      0.16      0.15       966\n",
      "           9       0.15      0.15      0.15      1001\n",
      "\n",
      "    accuracy                           0.14     10000\n",
      "   macro avg       0.14      0.14      0.14     10000\n",
      "weighted avg       0.14      0.14      0.14     10000\n",
      "\n"
     ]
    }
   ],
   "source": [
    "# Train\n",
    "dt_model = DecisionTreeClassifier(random_state=0).fit(img_feature_train, noisy_labels)\n",
    "\n",
    "# Predict\n",
    "pred_dt_test= dt_model.predict(img_feature_test)\n",
    "\n",
    "# Evaluate\n",
    "print(classification_report(pred_dt_test, clean_labels)) # accuracy = 0.14"
   ]
  },
  {
   "cell_type": "markdown",
   "id": "5a83f240",
   "metadata": {},
   "source": [
    "### Implementing a Random Forest Classifier"
   ]
  },
  {
   "cell_type": "code",
   "execution_count": 10,
   "id": "3f5f7540",
   "metadata": {},
   "outputs": [],
   "source": [
    "from sklearn.ensemble import RandomForestClassifier"
   ]
  },
  {
   "cell_type": "code",
   "execution_count": 11,
   "id": "18218cfe",
   "metadata": {},
   "outputs": [
    {
     "name": "stdout",
     "output_type": "stream",
     "text": [
      "              precision    recall  f1-score   support\n",
      "\n",
      "           0       0.35      0.34      0.35      1015\n",
      "           1       0.32      0.26      0.29      1188\n",
      "           2       0.19      0.22      0.20       908\n",
      "           3       0.14      0.16      0.15       924\n",
      "           4       0.26      0.23      0.25      1142\n",
      "           5       0.19      0.19      0.19       957\n",
      "           6       0.30      0.29      0.29      1059\n",
      "           7       0.22      0.25      0.23       891\n",
      "           8       0.29      0.32      0.30       935\n",
      "           9       0.29      0.29      0.29       981\n",
      "\n",
      "    accuracy                           0.26     10000\n",
      "   macro avg       0.26      0.25      0.25     10000\n",
      "weighted avg       0.26      0.26      0.26     10000\n",
      "\n"
     ]
    }
   ],
   "source": [
    "# Train\n",
    "rf_model = RandomForestClassifier(random_state=0).fit(img_feature_train, noisy_labels)\n",
    "\n",
    "# Predict\n",
    "pred_rf_test= rf_model.predict(img_feature_test)\n",
    "\n",
    "# Evaluate\n",
    "print(classification_report(pred_rf_test, clean_labels)) # accuracy = 0.26"
   ]
  },
  {
   "cell_type": "markdown",
   "id": "f63d374a",
   "metadata": {},
   "source": [
    "### Implementing a KNN"
   ]
  },
  {
   "cell_type": "code",
   "execution_count": 12,
   "id": "1d62a226",
   "metadata": {},
   "outputs": [],
   "source": [
    "from sklearn.neighbors import KNeighborsClassifier"
   ]
  },
  {
   "cell_type": "code",
   "execution_count": 13,
   "id": "6ea8e3c2",
   "metadata": {},
   "outputs": [
    {
     "name": "stdout",
     "output_type": "stream",
     "text": [
      "              precision    recall  f1-score   support\n",
      "\n",
      "           0       0.34      0.27      0.30      1237\n",
      "           1       0.31      0.20      0.24      1546\n",
      "           2       0.21      0.19      0.20      1101\n",
      "           3       0.15      0.15      0.15      1030\n",
      "           4       0.20      0.20      0.20       967\n",
      "           5       0.15      0.15      0.15       900\n",
      "           6       0.23      0.25      0.24       946\n",
      "           7       0.15      0.22      0.18       706\n",
      "           8       0.21      0.27      0.24       784\n",
      "           9       0.19      0.24      0.21       783\n",
      "\n",
      "    accuracy                           0.21     10000\n",
      "   macro avg       0.21      0.21      0.21     10000\n",
      "weighted avg       0.22      0.21      0.22     10000\n",
      "\n"
     ]
    },
    {
     "name": "stderr",
     "output_type": "stream",
     "text": [
      "/Users/wendyzhu/opt/anaconda3/envs/firstEnv/lib/python3.10/site-packages/sklearn/neighbors/_classification.py:228: FutureWarning: Unlike other reduction functions (e.g. `skew`, `kurtosis`), the default behavior of `mode` typically preserves the axis it acts along. In SciPy 1.11.0, this behavior will change: the default value of `keepdims` will become False, the `axis` over which the statistic is taken will be eliminated, and the value None will no longer be accepted. Set `keepdims` to True or False to avoid this warning.\n",
      "  mode, _ = stats.mode(_y[neigh_ind, k], axis=1)\n"
     ]
    }
   ],
   "source": [
    "# Train\n",
    "knn_model = KNeighborsClassifier(n_neighbors = 20).fit(img_feature_train, noisy_labels)\n",
    "\n",
    "# Predict\n",
    "pred_knn_test= knn_model.predict(img_feature_test)\n",
    "\n",
    "# Evaluate\n",
    "print(classification_report(pred_knn_test, clean_labels)) # accuracy = 0.21"
   ]
  },
  {
   "cell_type": "markdown",
   "id": "57e1ad37",
   "metadata": {},
   "source": [
    "### Implementing a Naive Bayes classifier"
   ]
  },
  {
   "cell_type": "code",
   "execution_count": 14,
   "id": "92c6166f",
   "metadata": {},
   "outputs": [],
   "source": [
    "from sklearn.naive_bayes import GaussianNB"
   ]
  },
  {
   "cell_type": "code",
   "execution_count": 15,
   "id": "40e1b814",
   "metadata": {},
   "outputs": [
    {
     "name": "stdout",
     "output_type": "stream",
     "text": [
      "              precision    recall  f1-score   support\n",
      "\n",
      "           0       0.50      0.31      0.38      1593\n",
      "           1       0.30      0.22      0.25      1313\n",
      "           2       0.13      0.28      0.17       457\n",
      "           3       0.03      0.17      0.05       164\n",
      "           4       0.44      0.21      0.28      2109\n",
      "           5       0.03      0.23      0.05       126\n",
      "           6       0.28      0.27      0.28      1097\n",
      "           7       0.03      0.34      0.06        98\n",
      "           8       0.18      0.28      0.22       650\n",
      "           9       0.55      0.23      0.32      2393\n",
      "\n",
      "    accuracy                           0.25     10000\n",
      "   macro avg       0.25      0.25      0.21     10000\n",
      "weighted avg       0.39      0.25      0.29     10000\n",
      "\n"
     ]
    }
   ],
   "source": [
    "# Train\n",
    "nb_model = GaussianNB().fit(img_feature_train, noisy_labels)\n",
    "\n",
    "# Predict\n",
    "pred_nb_test= nb_model.predict(img_feature_test)\n",
    "\n",
    "# Evaluate\n",
    "print(classification_report(pred_nb_test, clean_labels)) # accuracy = 0.25"
   ]
  },
  {
   "cell_type": "code",
   "execution_count": null,
   "id": "8695a835",
   "metadata": {},
   "outputs": [],
   "source": []
  }
 ],
 "metadata": {
  "kernelspec": {
   "display_name": "Python [conda env:firstEnv]",
   "language": "python",
   "name": "conda-env-firstEnv-py"
  },
  "language_info": {
   "codemirror_mode": {
    "name": "ipython",
    "version": 3
   },
   "file_extension": ".py",
   "mimetype": "text/x-python",
   "name": "python",
   "nbconvert_exporter": "python",
   "pygments_lexer": "ipython3",
   "version": "3.10.9"
  }
 },
 "nbformat": 4,
 "nbformat_minor": 5
}
